{
 "cells": [
  {
   "cell_type": "code",
   "execution_count": 1,
   "id": "1282e228",
   "metadata": {
    "_cell_guid": "b1076dfc-b9ad-4769-8c92-a6c4dae69d19",
    "_uuid": "8f2839f25d086af736a60e9eeb907d3b93b6e0e5",
    "execution": {
     "iopub.execute_input": "2024-01-16T22:17:21.812437Z",
     "iopub.status.busy": "2024-01-16T22:17:21.811693Z",
     "iopub.status.idle": "2024-01-16T22:17:23.340568Z",
     "shell.execute_reply": "2024-01-16T22:17:23.339743Z"
    },
    "papermill": {
     "duration": 1.541845,
     "end_time": "2024-01-16T22:17:23.342747",
     "exception": false,
     "start_time": "2024-01-16T22:17:21.800902",
     "status": "completed"
    },
    "tags": []
   },
   "outputs": [
    {
     "name": "stdout",
     "output_type": "stream",
     "text": [
      "/kaggle/input/titanic/train.csv\n",
      "/kaggle/input/titanic/test.csv\n",
      "/kaggle/input/titanic/gender_submission.csv\n"
     ]
    }
   ],
   "source": [
    "## Importing required libraries\n",
    "\n",
    "import numpy as np \n",
    "import pandas as pd \n",
    "import seaborn as sns\n",
    "import matplotlib.pyplot as plt\n",
    "from sklearn.feature_selection import mutual_info_classif\n",
    "import pandas as pd\n",
    "\n",
    "\n",
    "import os\n",
    "for dirname, _, filenames in os.walk('/kaggle/input'):\n",
    "    for filename in filenames:\n",
    "        print(os.path.join(dirname, filename))"
   ]
  },
  {
   "cell_type": "code",
   "execution_count": 2,
   "id": "d29df961",
   "metadata": {
    "execution": {
     "iopub.execute_input": "2024-01-16T22:17:23.362879Z",
     "iopub.status.busy": "2024-01-16T22:17:23.362088Z",
     "iopub.status.idle": "2024-01-16T22:17:23.381009Z",
     "shell.execute_reply": "2024-01-16T22:17:23.380472Z"
    },
    "papermill": {
     "duration": 0.030224,
     "end_time": "2024-01-16T22:17:23.382689",
     "exception": false,
     "start_time": "2024-01-16T22:17:23.352465",
     "status": "completed"
    },
    "tags": []
   },
   "outputs": [],
   "source": [
    "# Reading training data csv file\n",
    "df= pd.read_csv('/kaggle/input/titanic/train.csv')"
   ]
  },
  {
   "cell_type": "markdown",
   "id": "4e0bce70",
   "metadata": {
    "papermill": {
     "duration": 0.008808,
     "end_time": "2024-01-16T22:17:23.400452",
     "exception": false,
     "start_time": "2024-01-16T22:17:23.391644",
     "status": "completed"
    },
    "tags": []
   },
   "source": [
    "# Data Cleaning and Preprocessing"
   ]
  },
  {
   "cell_type": "code",
   "execution_count": 3,
   "id": "0803e069",
   "metadata": {
    "execution": {
     "iopub.execute_input": "2024-01-16T22:17:23.419609Z",
     "iopub.status.busy": "2024-01-16T22:17:23.419141Z",
     "iopub.status.idle": "2024-01-16T22:17:23.439438Z",
     "shell.execute_reply": "2024-01-16T22:17:23.438568Z"
    },
    "papermill": {
     "duration": 0.031663,
     "end_time": "2024-01-16T22:17:23.441012",
     "exception": false,
     "start_time": "2024-01-16T22:17:23.409349",
     "status": "completed"
    },
    "tags": []
   },
   "outputs": [
    {
     "data": {
      "text/html": [
       "<div>\n",
       "<style scoped>\n",
       "    .dataframe tbody tr th:only-of-type {\n",
       "        vertical-align: middle;\n",
       "    }\n",
       "\n",
       "    .dataframe tbody tr th {\n",
       "        vertical-align: top;\n",
       "    }\n",
       "\n",
       "    .dataframe thead th {\n",
       "        text-align: right;\n",
       "    }\n",
       "</style>\n",
       "<table border=\"1\" class=\"dataframe\">\n",
       "  <thead>\n",
       "    <tr style=\"text-align: right;\">\n",
       "      <th></th>\n",
       "      <th>PassengerId</th>\n",
       "      <th>Survived</th>\n",
       "      <th>Pclass</th>\n",
       "      <th>Name</th>\n",
       "      <th>Sex</th>\n",
       "      <th>Age</th>\n",
       "      <th>SibSp</th>\n",
       "      <th>Parch</th>\n",
       "      <th>Ticket</th>\n",
       "      <th>Fare</th>\n",
       "      <th>Cabin</th>\n",
       "      <th>Embarked</th>\n",
       "    </tr>\n",
       "  </thead>\n",
       "  <tbody>\n",
       "    <tr>\n",
       "      <th>0</th>\n",
       "      <td>1</td>\n",
       "      <td>0</td>\n",
       "      <td>3</td>\n",
       "      <td>Braund, Mr. Owen Harris</td>\n",
       "      <td>male</td>\n",
       "      <td>22.0</td>\n",
       "      <td>1</td>\n",
       "      <td>0</td>\n",
       "      <td>A/5 21171</td>\n",
       "      <td>7.2500</td>\n",
       "      <td>NaN</td>\n",
       "      <td>S</td>\n",
       "    </tr>\n",
       "    <tr>\n",
       "      <th>1</th>\n",
       "      <td>2</td>\n",
       "      <td>1</td>\n",
       "      <td>1</td>\n",
       "      <td>Cumings, Mrs. John Bradley (Florence Briggs Th...</td>\n",
       "      <td>female</td>\n",
       "      <td>38.0</td>\n",
       "      <td>1</td>\n",
       "      <td>0</td>\n",
       "      <td>PC 17599</td>\n",
       "      <td>71.2833</td>\n",
       "      <td>C85</td>\n",
       "      <td>C</td>\n",
       "    </tr>\n",
       "    <tr>\n",
       "      <th>2</th>\n",
       "      <td>3</td>\n",
       "      <td>1</td>\n",
       "      <td>3</td>\n",
       "      <td>Heikkinen, Miss. Laina</td>\n",
       "      <td>female</td>\n",
       "      <td>26.0</td>\n",
       "      <td>0</td>\n",
       "      <td>0</td>\n",
       "      <td>STON/O2. 3101282</td>\n",
       "      <td>7.9250</td>\n",
       "      <td>NaN</td>\n",
       "      <td>S</td>\n",
       "    </tr>\n",
       "    <tr>\n",
       "      <th>3</th>\n",
       "      <td>4</td>\n",
       "      <td>1</td>\n",
       "      <td>1</td>\n",
       "      <td>Futrelle, Mrs. Jacques Heath (Lily May Peel)</td>\n",
       "      <td>female</td>\n",
       "      <td>35.0</td>\n",
       "      <td>1</td>\n",
       "      <td>0</td>\n",
       "      <td>113803</td>\n",
       "      <td>53.1000</td>\n",
       "      <td>C123</td>\n",
       "      <td>S</td>\n",
       "    </tr>\n",
       "    <tr>\n",
       "      <th>4</th>\n",
       "      <td>5</td>\n",
       "      <td>0</td>\n",
       "      <td>3</td>\n",
       "      <td>Allen, Mr. William Henry</td>\n",
       "      <td>male</td>\n",
       "      <td>35.0</td>\n",
       "      <td>0</td>\n",
       "      <td>0</td>\n",
       "      <td>373450</td>\n",
       "      <td>8.0500</td>\n",
       "      <td>NaN</td>\n",
       "      <td>S</td>\n",
       "    </tr>\n",
       "  </tbody>\n",
       "</table>\n",
       "</div>"
      ],
      "text/plain": [
       "   PassengerId  Survived  Pclass  \\\n",
       "0            1         0       3   \n",
       "1            2         1       1   \n",
       "2            3         1       3   \n",
       "3            4         1       1   \n",
       "4            5         0       3   \n",
       "\n",
       "                                                Name     Sex   Age  SibSp  \\\n",
       "0                            Braund, Mr. Owen Harris    male  22.0      1   \n",
       "1  Cumings, Mrs. John Bradley (Florence Briggs Th...  female  38.0      1   \n",
       "2                             Heikkinen, Miss. Laina  female  26.0      0   \n",
       "3       Futrelle, Mrs. Jacques Heath (Lily May Peel)  female  35.0      1   \n",
       "4                           Allen, Mr. William Henry    male  35.0      0   \n",
       "\n",
       "   Parch            Ticket     Fare Cabin Embarked  \n",
       "0      0         A/5 21171   7.2500   NaN        S  \n",
       "1      0          PC 17599  71.2833   C85        C  \n",
       "2      0  STON/O2. 3101282   7.9250   NaN        S  \n",
       "3      0            113803  53.1000  C123        S  \n",
       "4      0            373450   8.0500   NaN        S  "
      ]
     },
     "execution_count": 3,
     "metadata": {},
     "output_type": "execute_result"
    }
   ],
   "source": [
    "df.head()"
   ]
  },
  {
   "cell_type": "code",
   "execution_count": 4,
   "id": "71b09095",
   "metadata": {
    "execution": {
     "iopub.execute_input": "2024-01-16T22:17:23.462548Z",
     "iopub.status.busy": "2024-01-16T22:17:23.462098Z",
     "iopub.status.idle": "2024-01-16T22:17:23.466733Z",
     "shell.execute_reply": "2024-01-16T22:17:23.466175Z"
    },
    "papermill": {
     "duration": 0.017976,
     "end_time": "2024-01-16T22:17:23.468303",
     "exception": false,
     "start_time": "2024-01-16T22:17:23.450327",
     "status": "completed"
    },
    "tags": []
   },
   "outputs": [
    {
     "data": {
      "text/plain": [
       "(891, 12)"
      ]
     },
     "execution_count": 4,
     "metadata": {},
     "output_type": "execute_result"
    }
   ],
   "source": [
    "df.shape"
   ]
  },
  {
   "cell_type": "code",
   "execution_count": 5,
   "id": "c532cfdc",
   "metadata": {
    "execution": {
     "iopub.execute_input": "2024-01-16T22:17:23.488555Z",
     "iopub.status.busy": "2024-01-16T22:17:23.488149Z",
     "iopub.status.idle": "2024-01-16T22:17:23.507833Z",
     "shell.execute_reply": "2024-01-16T22:17:23.506998Z"
    },
    "papermill": {
     "duration": 0.031685,
     "end_time": "2024-01-16T22:17:23.509331",
     "exception": false,
     "start_time": "2024-01-16T22:17:23.477646",
     "status": "completed"
    },
    "tags": []
   },
   "outputs": [
    {
     "name": "stdout",
     "output_type": "stream",
     "text": [
      "<class 'pandas.core.frame.DataFrame'>\n",
      "RangeIndex: 891 entries, 0 to 890\n",
      "Data columns (total 12 columns):\n",
      " #   Column       Non-Null Count  Dtype  \n",
      "---  ------       --------------  -----  \n",
      " 0   PassengerId  891 non-null    int64  \n",
      " 1   Survived     891 non-null    int64  \n",
      " 2   Pclass       891 non-null    int64  \n",
      " 3   Name         891 non-null    object \n",
      " 4   Sex          891 non-null    object \n",
      " 5   Age          714 non-null    float64\n",
      " 6   SibSp        891 non-null    int64  \n",
      " 7   Parch        891 non-null    int64  \n",
      " 8   Ticket       891 non-null    object \n",
      " 9   Fare         891 non-null    float64\n",
      " 10  Cabin        204 non-null    object \n",
      " 11  Embarked     889 non-null    object \n",
      "dtypes: float64(2), int64(5), object(5)\n",
      "memory usage: 83.7+ KB\n"
     ]
    }
   ],
   "source": [
    "df.info()"
   ]
  },
  {
   "cell_type": "code",
   "execution_count": 6,
   "id": "4e0238af",
   "metadata": {
    "execution": {
     "iopub.execute_input": "2024-01-16T22:17:23.529120Z",
     "iopub.status.busy": "2024-01-16T22:17:23.528843Z",
     "iopub.status.idle": "2024-01-16T22:17:23.534920Z",
     "shell.execute_reply": "2024-01-16T22:17:23.534193Z"
    },
    "papermill": {
     "duration": 0.017912,
     "end_time": "2024-01-16T22:17:23.536651",
     "exception": false,
     "start_time": "2024-01-16T22:17:23.518739",
     "status": "completed"
    },
    "tags": []
   },
   "outputs": [
    {
     "data": {
      "text/plain": [
       "PassengerId      0\n",
       "Survived         0\n",
       "Pclass           0\n",
       "Name             0\n",
       "Sex              0\n",
       "Age            177\n",
       "SibSp            0\n",
       "Parch            0\n",
       "Ticket           0\n",
       "Fare             0\n",
       "Cabin          687\n",
       "Embarked         2\n",
       "dtype: int64"
      ]
     },
     "execution_count": 6,
     "metadata": {},
     "output_type": "execute_result"
    }
   ],
   "source": [
    "df.isnull().sum()"
   ]
  },
  {
   "cell_type": "code",
   "execution_count": 7,
   "id": "5a6c640b",
   "metadata": {
    "execution": {
     "iopub.execute_input": "2024-01-16T22:17:23.556992Z",
     "iopub.status.busy": "2024-01-16T22:17:23.556621Z",
     "iopub.status.idle": "2024-01-16T22:17:23.563301Z",
     "shell.execute_reply": "2024-01-16T22:17:23.562665Z"
    },
    "papermill": {
     "duration": 0.018649,
     "end_time": "2024-01-16T22:17:23.564819",
     "exception": false,
     "start_time": "2024-01-16T22:17:23.546170",
     "status": "completed"
    },
    "tags": []
   },
   "outputs": [],
   "source": [
    "# Cabin column is unnecessary \n",
    "df.drop(columns='Cabin', axis=1, inplace = True)"
   ]
  },
  {
   "cell_type": "code",
   "execution_count": 8,
   "id": "e18ff9ae",
   "metadata": {
    "execution": {
     "iopub.execute_input": "2024-01-16T22:17:23.586107Z",
     "iopub.status.busy": "2024-01-16T22:17:23.585667Z",
     "iopub.status.idle": "2024-01-16T22:17:23.590336Z",
     "shell.execute_reply": "2024-01-16T22:17:23.589804Z"
    },
    "papermill": {
     "duration": 0.016429,
     "end_time": "2024-01-16T22:17:23.591731",
     "exception": false,
     "start_time": "2024-01-16T22:17:23.575302",
     "status": "completed"
    },
    "tags": []
   },
   "outputs": [],
   "source": [
    "# Filling the missing data \n",
    "df.fillna(df['Age'].mean(), inplace=True)\n",
    "df.fillna(df['Embarked'].mode(), inplace=True)"
   ]
  },
  {
   "cell_type": "code",
   "execution_count": 9,
   "id": "4b6aae0a",
   "metadata": {
    "execution": {
     "iopub.execute_input": "2024-01-16T22:17:23.612066Z",
     "iopub.status.busy": "2024-01-16T22:17:23.611641Z",
     "iopub.status.idle": "2024-01-16T22:17:23.617916Z",
     "shell.execute_reply": "2024-01-16T22:17:23.617317Z"
    },
    "papermill": {
     "duration": 0.018283,
     "end_time": "2024-01-16T22:17:23.619561",
     "exception": false,
     "start_time": "2024-01-16T22:17:23.601278",
     "status": "completed"
    },
    "tags": []
   },
   "outputs": [
    {
     "data": {
      "text/plain": [
       "PassengerId    0\n",
       "Survived       0\n",
       "Pclass         0\n",
       "Name           0\n",
       "Sex            0\n",
       "Age            0\n",
       "SibSp          0\n",
       "Parch          0\n",
       "Ticket         0\n",
       "Fare           0\n",
       "Embarked       0\n",
       "dtype: int64"
      ]
     },
     "execution_count": 9,
     "metadata": {},
     "output_type": "execute_result"
    }
   ],
   "source": [
    "df.isnull().sum()"
   ]
  },
  {
   "cell_type": "code",
   "execution_count": 10,
   "id": "49d09af0",
   "metadata": {
    "execution": {
     "iopub.execute_input": "2024-01-16T22:17:23.639977Z",
     "iopub.status.busy": "2024-01-16T22:17:23.639530Z",
     "iopub.status.idle": "2024-01-16T22:17:23.662416Z",
     "shell.execute_reply": "2024-01-16T22:17:23.661782Z"
    },
    "papermill": {
     "duration": 0.034863,
     "end_time": "2024-01-16T22:17:23.663993",
     "exception": false,
     "start_time": "2024-01-16T22:17:23.629130",
     "status": "completed"
    },
    "tags": []
   },
   "outputs": [
    {
     "data": {
      "text/html": [
       "<div>\n",
       "<style scoped>\n",
       "    .dataframe tbody tr th:only-of-type {\n",
       "        vertical-align: middle;\n",
       "    }\n",
       "\n",
       "    .dataframe tbody tr th {\n",
       "        vertical-align: top;\n",
       "    }\n",
       "\n",
       "    .dataframe thead th {\n",
       "        text-align: right;\n",
       "    }\n",
       "</style>\n",
       "<table border=\"1\" class=\"dataframe\">\n",
       "  <thead>\n",
       "    <tr style=\"text-align: right;\">\n",
       "      <th></th>\n",
       "      <th>PassengerId</th>\n",
       "      <th>Survived</th>\n",
       "      <th>Pclass</th>\n",
       "      <th>Age</th>\n",
       "      <th>SibSp</th>\n",
       "      <th>Parch</th>\n",
       "      <th>Fare</th>\n",
       "    </tr>\n",
       "  </thead>\n",
       "  <tbody>\n",
       "    <tr>\n",
       "      <th>count</th>\n",
       "      <td>891.000000</td>\n",
       "      <td>891.000000</td>\n",
       "      <td>891.000000</td>\n",
       "      <td>891.000000</td>\n",
       "      <td>891.000000</td>\n",
       "      <td>891.000000</td>\n",
       "      <td>891.000000</td>\n",
       "    </tr>\n",
       "    <tr>\n",
       "      <th>mean</th>\n",
       "      <td>446.000000</td>\n",
       "      <td>0.383838</td>\n",
       "      <td>2.308642</td>\n",
       "      <td>29.699118</td>\n",
       "      <td>0.523008</td>\n",
       "      <td>0.381594</td>\n",
       "      <td>32.204208</td>\n",
       "    </tr>\n",
       "    <tr>\n",
       "      <th>std</th>\n",
       "      <td>257.353842</td>\n",
       "      <td>0.486592</td>\n",
       "      <td>0.836071</td>\n",
       "      <td>13.002015</td>\n",
       "      <td>1.102743</td>\n",
       "      <td>0.806057</td>\n",
       "      <td>49.693429</td>\n",
       "    </tr>\n",
       "    <tr>\n",
       "      <th>min</th>\n",
       "      <td>1.000000</td>\n",
       "      <td>0.000000</td>\n",
       "      <td>1.000000</td>\n",
       "      <td>0.420000</td>\n",
       "      <td>0.000000</td>\n",
       "      <td>0.000000</td>\n",
       "      <td>0.000000</td>\n",
       "    </tr>\n",
       "    <tr>\n",
       "      <th>25%</th>\n",
       "      <td>223.500000</td>\n",
       "      <td>0.000000</td>\n",
       "      <td>2.000000</td>\n",
       "      <td>22.000000</td>\n",
       "      <td>0.000000</td>\n",
       "      <td>0.000000</td>\n",
       "      <td>7.910400</td>\n",
       "    </tr>\n",
       "    <tr>\n",
       "      <th>50%</th>\n",
       "      <td>446.000000</td>\n",
       "      <td>0.000000</td>\n",
       "      <td>3.000000</td>\n",
       "      <td>29.699118</td>\n",
       "      <td>0.000000</td>\n",
       "      <td>0.000000</td>\n",
       "      <td>14.454200</td>\n",
       "    </tr>\n",
       "    <tr>\n",
       "      <th>75%</th>\n",
       "      <td>668.500000</td>\n",
       "      <td>1.000000</td>\n",
       "      <td>3.000000</td>\n",
       "      <td>35.000000</td>\n",
       "      <td>1.000000</td>\n",
       "      <td>0.000000</td>\n",
       "      <td>31.000000</td>\n",
       "    </tr>\n",
       "    <tr>\n",
       "      <th>max</th>\n",
       "      <td>891.000000</td>\n",
       "      <td>1.000000</td>\n",
       "      <td>3.000000</td>\n",
       "      <td>80.000000</td>\n",
       "      <td>8.000000</td>\n",
       "      <td>6.000000</td>\n",
       "      <td>512.329200</td>\n",
       "    </tr>\n",
       "  </tbody>\n",
       "</table>\n",
       "</div>"
      ],
      "text/plain": [
       "       PassengerId    Survived      Pclass         Age       SibSp  \\\n",
       "count   891.000000  891.000000  891.000000  891.000000  891.000000   \n",
       "mean    446.000000    0.383838    2.308642   29.699118    0.523008   \n",
       "std     257.353842    0.486592    0.836071   13.002015    1.102743   \n",
       "min       1.000000    0.000000    1.000000    0.420000    0.000000   \n",
       "25%     223.500000    0.000000    2.000000   22.000000    0.000000   \n",
       "50%     446.000000    0.000000    3.000000   29.699118    0.000000   \n",
       "75%     668.500000    1.000000    3.000000   35.000000    1.000000   \n",
       "max     891.000000    1.000000    3.000000   80.000000    8.000000   \n",
       "\n",
       "            Parch        Fare  \n",
       "count  891.000000  891.000000  \n",
       "mean     0.381594   32.204208  \n",
       "std      0.806057   49.693429  \n",
       "min      0.000000    0.000000  \n",
       "25%      0.000000    7.910400  \n",
       "50%      0.000000   14.454200  \n",
       "75%      0.000000   31.000000  \n",
       "max      6.000000  512.329200  "
      ]
     },
     "execution_count": 10,
     "metadata": {},
     "output_type": "execute_result"
    }
   ],
   "source": [
    "df.describe()"
   ]
  },
  {
   "cell_type": "code",
   "execution_count": 11,
   "id": "b18462dd",
   "metadata": {
    "execution": {
     "iopub.execute_input": "2024-01-16T22:17:23.724001Z",
     "iopub.status.busy": "2024-01-16T22:17:23.723710Z",
     "iopub.status.idle": "2024-01-16T22:17:23.729733Z",
     "shell.execute_reply": "2024-01-16T22:17:23.728971Z"
    },
    "papermill": {
     "duration": 0.018588,
     "end_time": "2024-01-16T22:17:23.731320",
     "exception": false,
     "start_time": "2024-01-16T22:17:23.712732",
     "status": "completed"
    },
    "tags": []
   },
   "outputs": [
    {
     "data": {
      "text/plain": [
       "Survived\n",
       "0    549\n",
       "1    342\n",
       "Name: count, dtype: int64"
      ]
     },
     "execution_count": 11,
     "metadata": {},
     "output_type": "execute_result"
    }
   ],
   "source": [
    "df.Survived.value_counts()"
   ]
  },
  {
   "cell_type": "code",
   "execution_count": 12,
   "id": "1de19869",
   "metadata": {
    "execution": {
     "iopub.execute_input": "2024-01-16T22:17:23.751794Z",
     "iopub.status.busy": "2024-01-16T22:17:23.751556Z",
     "iopub.status.idle": "2024-01-16T22:17:23.886700Z",
     "shell.execute_reply": "2024-01-16T22:17:23.886063Z"
    },
    "papermill": {
     "duration": 0.147254,
     "end_time": "2024-01-16T22:17:23.888409",
     "exception": false,
     "start_time": "2024-01-16T22:17:23.741155",
     "status": "completed"
    },
    "tags": []
   },
   "outputs": [
    {
     "data": {
      "image/png": "[encoded data removed]",
      "text/plain": [
       "<Figure size 640x480 with 1 Axes>"
      ]
     },
     "metadata": {},
     "output_type": "display_data"
    }
   ],
   "source": [
    "# Count plot for Survived column\n",
    "sns.countplot(x='Survived', data=df)\n",
    "plt.show()"
   ]
  },
  {
   "cell_type": "code",
   "execution_count": 13,
   "id": "593f4345",
   "metadata": {
    "execution": {
     "iopub.execute_input": "2024-01-16T22:17:23.915237Z",
     "iopub.status.busy": "2024-01-16T22:17:23.914765Z",
     "iopub.status.idle": "2024-01-16T22:17:23.920276Z",
     "shell.execute_reply": "2024-01-16T22:17:23.919639Z"
    },
    "papermill": {
     "duration": 0.019976,
     "end_time": "2024-01-16T22:17:23.921658",
     "exception": false,
     "start_time": "2024-01-16T22:17:23.901682",
     "status": "completed"
    },
    "tags": []
   },
   "outputs": [
    {
     "data": {
      "text/plain": [
       "Sex\n",
       "male      577\n",
       "female    314\n",
       "Name: count, dtype: int64"
      ]
     },
     "execution_count": 13,
     "metadata": {},
     "output_type": "execute_result"
    }
   ],
   "source": [
    "df.Sex.value_counts()"
   ]
  },
  {
   "cell_type": "code",
   "execution_count": 14,
   "id": "59e0dbfb",
   "metadata": {
    "execution": {
     "iopub.execute_input": "2024-01-16T22:17:23.943315Z",
     "iopub.status.busy": "2024-01-16T22:17:23.942914Z",
     "iopub.status.idle": "2024-01-16T22:17:24.060954Z",
     "shell.execute_reply": "2024-01-16T22:17:24.060319Z"
    },
    "papermill": {
     "duration": 0.130828,
     "end_time": "2024-01-16T22:17:24.062684",
     "exception": false,
     "start_time": "2024-01-16T22:17:23.931856",
     "status": "completed"
    },
    "tags": []
   },
   "outputs": [
    {
     "data": {
      "image/png": "[encoded data removed]",
      "text/plain": [
       "<Figure size 640x480 with 1 Axes>"
      ]
     },
     "metadata": {},
     "output_type": "display_data"
    }
   ],
   "source": [
    "# Count plot for Sex column\n",
    "sns.countplot(x='Sex', data=df)\n",
    "plt.show()"
   ]
  },
  {
   "cell_type": "code",
   "execution_count": 15,
   "id": "9eb10b85",
   "metadata": {
    "execution": {
     "iopub.execute_input": "2024-01-16T22:17:24.091314Z",
     "iopub.status.busy": "2024-01-16T22:17:24.090882Z",
     "iopub.status.idle": "2024-01-16T22:17:24.096343Z",
     "shell.execute_reply": "2024-01-16T22:17:24.095697Z"
    },
    "papermill": {
     "duration": 0.021212,
     "end_time": "2024-01-16T22:17:24.097767",
     "exception": false,
     "start_time": "2024-01-16T22:17:24.076555",
     "status": "completed"
    },
    "tags": []
   },
   "outputs": [
    {
     "data": {
      "text/plain": [
       "Pclass\n",
       "3    491\n",
       "1    216\n",
       "2    184\n",
       "Name: count, dtype: int64"
      ]
     },
     "execution_count": 15,
     "metadata": {},
     "output_type": "execute_result"
    }
   ],
   "source": [
    "df.Pclass.value_counts()"
   ]
  },
  {
   "cell_type": "code",
   "execution_count": 16,
   "id": "e89d91f8",
   "metadata": {
    "execution": {
     "iopub.execute_input": "2024-01-16T22:17:24.120268Z",
     "iopub.status.busy": "2024-01-16T22:17:24.119742Z",
     "iopub.status.idle": "2024-01-16T22:17:24.238104Z",
     "shell.execute_reply": "2024-01-16T22:17:24.237443Z"
    },
    "papermill": {
     "duration": 0.131488,
     "end_time": "2024-01-16T22:17:24.239924",
     "exception": false,
     "start_time": "2024-01-16T22:17:24.108436",
     "status": "completed"
    },
    "tags": []
   },
   "outputs": [
    {
     "data": {
      "image/png": "[encoded data removed]",
      "text/plain": [
       "<Figure size 640x480 with 1 Axes>"
      ]
     },
     "metadata": {},
     "output_type": "display_data"
    }
   ],
   "source": [
    "# Count plot for Pclass column\n",
    "sns.countplot(x='Pclass', data=df)\n",
    "plt.show()"
   ]
  },
  {
   "cell_type": "code",
   "execution_count": 17,
   "id": "f2bfc6a6",
   "metadata": {
    "execution": {
     "iopub.execute_input": "2024-01-16T22:17:24.268952Z",
     "iopub.status.busy": "2024-01-16T22:17:24.268691Z",
     "iopub.status.idle": "2024-01-16T22:17:24.274278Z",
     "shell.execute_reply": "2024-01-16T22:17:24.273600Z"
    },
    "papermill": {
     "duration": 0.021666,
     "end_time": "2024-01-16T22:17:24.275748",
     "exception": false,
     "start_time": "2024-01-16T22:17:24.254082",
     "status": "completed"
    },
    "tags": []
   },
   "outputs": [
    {
     "data": {
      "text/plain": [
       "Embarked\n",
       "S                    644\n",
       "C                    168\n",
       "Q                     77\n",
       "29.69911764705882      2\n",
       "Name: count, dtype: int64"
      ]
     },
     "execution_count": 17,
     "metadata": {},
     "output_type": "execute_result"
    }
   ],
   "source": [
    "df.Embarked.value_counts()"
   ]
  },
  {
   "cell_type": "markdown",
   "id": "96b26769",
   "metadata": {
    "papermill": {
     "duration": 0.010557,
     "end_time": "2024-01-16T22:17:24.297277",
     "exception": false,
     "start_time": "2024-01-16T22:17:24.286720",
     "status": "completed"
    },
    "tags": []
   },
   "source": [
    "# Converting Catergorical columns"
   ]
  },
  {
   "cell_type": "code",
   "execution_count": 18,
   "id": "075ead88",
   "metadata": {
    "execution": {
     "iopub.execute_input": "2024-01-16T22:17:24.320235Z",
     "iopub.status.busy": "2024-01-16T22:17:24.319801Z",
     "iopub.status.idle": "2024-01-16T22:17:24.325024Z",
     "shell.execute_reply": "2024-01-16T22:17:24.324494Z"
    },
    "papermill": {
     "duration": 0.018428,
     "end_time": "2024-01-16T22:17:24.326426",
     "exception": false,
     "start_time": "2024-01-16T22:17:24.307998",
     "status": "completed"
    },
    "tags": []
   },
   "outputs": [],
   "source": [
    "# converting categorical Columns\n",
    "\n",
    "df.replace({'Sex':{'male':0,'female':1}, 'Embarked':{'S':0,'C':1,'Q':2}}, inplace=True)"
   ]
  },
  {
   "cell_type": "code",
   "execution_count": 19,
   "id": "7cea052a",
   "metadata": {
    "execution": {
     "iopub.execute_input": "2024-01-16T22:17:24.349434Z",
     "iopub.status.busy": "2024-01-16T22:17:24.348980Z",
     "iopub.status.idle": "2024-01-16T22:17:24.359753Z",
     "shell.execute_reply": "2024-01-16T22:17:24.359075Z"
    },
    "papermill": {
     "duration": 0.023988,
     "end_time": "2024-01-16T22:17:24.361206",
     "exception": false,
     "start_time": "2024-01-16T22:17:24.337218",
     "status": "completed"
    },
    "tags": []
   },
   "outputs": [
    {
     "data": {
      "text/html": [
       "<div>\n",
       "<style scoped>\n",
       "    .dataframe tbody tr th:only-of-type {\n",
       "        vertical-align: middle;\n",
       "    }\n",
       "\n",
       "    .dataframe tbody tr th {\n",
       "        vertical-align: top;\n",
       "    }\n",
       "\n",
       "    .dataframe thead th {\n",
       "        text-align: right;\n",
       "    }\n",
       "</style>\n",
       "<table border=\"1\" class=\"dataframe\">\n",
       "  <thead>\n",
       "    <tr style=\"text-align: right;\">\n",
       "      <th></th>\n",
       "      <th>PassengerId</th>\n",
       "      <th>Survived</th>\n",
       "      <th>Pclass</th>\n",
       "      <th>Name</th>\n",
       "      <th>Sex</th>\n",
       "      <th>Age</th>\n",
       "      <th>SibSp</th>\n",
       "      <th>Parch</th>\n",
       "      <th>Ticket</th>\n",
       "      <th>Fare</th>\n",
       "      <th>Embarked</th>\n",
       "    </tr>\n",
       "  </thead>\n",
       "  <tbody>\n",
       "    <tr>\n",
       "      <th>0</th>\n",
       "      <td>1</td>\n",
       "      <td>0</td>\n",
       "      <td>3</td>\n",
       "      <td>Braund, Mr. Owen Harris</td>\n",
       "      <td>0</td>\n",
       "      <td>22.0</td>\n",
       "      <td>1</td>\n",
       "      <td>0</td>\n",
       "      <td>A/5 21171</td>\n",
       "      <td>7.2500</td>\n",
       "      <td>0.0</td>\n",
       "    </tr>\n",
       "    <tr>\n",
       "      <th>1</th>\n",
       "      <td>2</td>\n",
       "      <td>1</td>\n",
       "      <td>1</td>\n",
       "      <td>Cumings, Mrs. John Bradley (Florence Briggs Th...</td>\n",
       "      <td>1</td>\n",
       "      <td>38.0</td>\n",
       "      <td>1</td>\n",
       "      <td>0</td>\n",
       "      <td>PC 17599</td>\n",
       "      <td>71.2833</td>\n",
       "      <td>1.0</td>\n",
       "    </tr>\n",
       "    <tr>\n",
       "      <th>2</th>\n",
       "      <td>3</td>\n",
       "      <td>1</td>\n",
       "      <td>3</td>\n",
       "      <td>Heikkinen, Miss. Laina</td>\n",
       "      <td>1</td>\n",
       "      <td>26.0</td>\n",
       "      <td>0</td>\n",
       "      <td>0</td>\n",
       "      <td>STON/O2. 3101282</td>\n",
       "      <td>7.9250</td>\n",
       "      <td>0.0</td>\n",
       "    </tr>\n",
       "    <tr>\n",
       "      <th>3</th>\n",
       "      <td>4</td>\n",
       "      <td>1</td>\n",
       "      <td>1</td>\n",
       "      <td>Futrelle, Mrs. Jacques Heath (Lily May Peel)</td>\n",
       "      <td>1</td>\n",
       "      <td>35.0</td>\n",
       "      <td>1</td>\n",
       "      <td>0</td>\n",
       "      <td>113803</td>\n",
       "      <td>53.1000</td>\n",
       "      <td>0.0</td>\n",
       "    </tr>\n",
       "    <tr>\n",
       "      <th>4</th>\n",
       "      <td>5</td>\n",
       "      <td>0</td>\n",
       "      <td>3</td>\n",
       "      <td>Allen, Mr. William Henry</td>\n",
       "      <td>0</td>\n",
       "      <td>35.0</td>\n",
       "      <td>0</td>\n",
       "      <td>0</td>\n",
       "      <td>373450</td>\n",
       "      <td>8.0500</td>\n",
       "      <td>0.0</td>\n",
       "    </tr>\n",
       "  </tbody>\n",
       "</table>\n",
       "</div>"
      ],
      "text/plain": [
       "   PassengerId  Survived  Pclass  \\\n",
       "0            1         0       3   \n",
       "1            2         1       1   \n",
       "2            3         1       3   \n",
       "3            4         1       1   \n",
       "4            5         0       3   \n",
       "\n",
       "                                                Name  Sex   Age  SibSp  Parch  \\\n",
       "0                            Braund, Mr. Owen Harris    0  22.0      1      0   \n",
       "1  Cumings, Mrs. John Bradley (Florence Briggs Th...    1  38.0      1      0   \n",
       "2                             Heikkinen, Miss. Laina    1  26.0      0      0   \n",
       "3       Futrelle, Mrs. Jacques Heath (Lily May Peel)    1  35.0      1      0   \n",
       "4                           Allen, Mr. William Henry    0  35.0      0      0   \n",
       "\n",
       "             Ticket     Fare  Embarked  \n",
       "0         A/5 21171   7.2500       0.0  \n",
       "1          PC 17599  71.2833       1.0  \n",
       "2  STON/O2. 3101282   7.9250       0.0  \n",
       "3            113803  53.1000       0.0  \n",
       "4            373450   8.0500       0.0  "
      ]
     },
     "execution_count": 19,
     "metadata": {},
     "output_type": "execute_result"
    }
   ],
   "source": [
    "df.head()"
   ]
  },
  {
   "cell_type": "code",
   "execution_count": 20,
   "id": "0818cbbd",
   "metadata": {
    "execution": {
     "iopub.execute_input": "2024-01-16T22:17:24.384123Z",
     "iopub.status.busy": "2024-01-16T22:17:24.383698Z",
     "iopub.status.idle": "2024-01-16T22:17:24.387599Z",
     "shell.execute_reply": "2024-01-16T22:17:24.387085Z"
    },
    "papermill": {
     "duration": 0.017008,
     "end_time": "2024-01-16T22:17:24.389109",
     "exception": false,
     "start_time": "2024-01-16T22:17:24.372101",
     "status": "completed"
    },
    "tags": []
   },
   "outputs": [],
   "source": [
    "# Making Feature column and Target column\n",
    "X = df.drop(columns = ['PassengerId','Name','Ticket','Survived'],axis=1)\n",
    "Y = df['Survived']"
   ]
  },
  {
   "cell_type": "code",
   "execution_count": 21,
   "id": "239726ba",
   "metadata": {
    "execution": {
     "iopub.execute_input": "2024-01-16T22:17:24.412290Z",
     "iopub.status.busy": "2024-01-16T22:17:24.411814Z",
     "iopub.status.idle": "2024-01-16T22:17:24.419700Z",
     "shell.execute_reply": "2024-01-16T22:17:24.418852Z"
    },
    "papermill": {
     "duration": 0.021198,
     "end_time": "2024-01-16T22:17:24.421126",
     "exception": false,
     "start_time": "2024-01-16T22:17:24.399928",
     "status": "completed"
    },
    "tags": []
   },
   "outputs": [
    {
     "name": "stdout",
     "output_type": "stream",
     "text": [
      "     Pclass  Sex        Age  SibSp  Parch     Fare  Embarked\n",
      "0         3    0  22.000000      1      0   7.2500       0.0\n",
      "1         1    1  38.000000      1      0  71.2833       1.0\n",
      "2         3    1  26.000000      0      0   7.9250       0.0\n",
      "3         1    1  35.000000      1      0  53.1000       0.0\n",
      "4         3    0  35.000000      0      0   8.0500       0.0\n",
      "..      ...  ...        ...    ...    ...      ...       ...\n",
      "886       2    0  27.000000      0      0  13.0000       0.0\n",
      "887       1    1  19.000000      0      0  30.0000       0.0\n",
      "888       3    1  29.699118      1      2  23.4500       0.0\n",
      "889       1    0  26.000000      0      0  30.0000       1.0\n",
      "890       3    0  32.000000      0      0   7.7500       2.0\n",
      "\n",
      "[891 rows x 7 columns]\n"
     ]
    }
   ],
   "source": [
    "print(X)\n",
    "# print(Y)"
   ]
  },
  {
   "cell_type": "markdown",
   "id": "d7ce1fa1",
   "metadata": {
    "papermill": {
     "duration": 0.010777,
     "end_time": "2024-01-16T22:17:24.442857",
     "exception": false,
     "start_time": "2024-01-16T22:17:24.432080",
     "status": "completed"
    },
    "tags": []
   },
   "source": [
    "# Filter Method (Mutual Information) for Feature selection"
   ]
  },
  {
   "cell_type": "code",
   "execution_count": 22,
   "id": "e3575087",
   "metadata": {
    "execution": {
     "iopub.execute_input": "2024-01-16T22:17:24.466518Z",
     "iopub.status.busy": "2024-01-16T22:17:24.465736Z",
     "iopub.status.idle": "2024-01-16T22:17:24.498888Z",
     "shell.execute_reply": "2024-01-16T22:17:24.497983Z"
    },
    "papermill": {
     "duration": 0.046697,
     "end_time": "2024-01-16T22:17:24.500410",
     "exception": false,
     "start_time": "2024-01-16T22:17:24.453713",
     "status": "completed"
    },
    "tags": []
   },
   "outputs": [
    {
     "name": "stdout",
     "output_type": "stream",
     "text": [
      "Feature Importances (Mutual Information):\n",
      "Pclass      0.060821\n",
      "Sex         0.166868\n",
      "Age         0.030298\n",
      "SibSp       0.020622\n",
      "Parch       0.036279\n",
      "Fare        0.134513\n",
      "Embarked    0.021150\n",
      "dtype: float64\n"
     ]
    }
   ],
   "source": [
    "# X and Y are feature matrix and target variable\n",
    "importances = mutual_info_classif(X, Y)\n",
    "\n",
    "# Create a Pandas Series with feature importances\n",
    "feat_importances = pd.Series(importances, index=X.columns)\n",
    "\n",
    "# Display the feature importances\n",
    "print(\"Feature Importances (Mutual Information):\")\n",
    "print(feat_importances)\n"
   ]
  },
  {
   "cell_type": "code",
   "execution_count": 23,
   "id": "44b54327",
   "metadata": {
    "execution": {
     "iopub.execute_input": "2024-01-16T22:17:24.523895Z",
     "iopub.status.busy": "2024-01-16T22:17:24.523666Z",
     "iopub.status.idle": "2024-01-16T22:17:24.528525Z",
     "shell.execute_reply": "2024-01-16T22:17:24.527841Z"
    },
    "papermill": {
     "duration": 0.018012,
     "end_time": "2024-01-16T22:17:24.529939",
     "exception": false,
     "start_time": "2024-01-16T22:17:24.511927",
     "status": "completed"
    },
    "tags": []
   },
   "outputs": [],
   "source": [
    "# Selecting the Feature matrix again by drop unnecessary columns\n",
    "X=df.drop(columns = ['PassengerId','Name','Ticket','Survived', 'Parch', 'SibSp' ,'Embarked'],axis=1)"
   ]
  },
  {
   "cell_type": "code",
   "execution_count": 24,
   "id": "fda7bfc6",
   "metadata": {
    "execution": {
     "iopub.execute_input": "2024-01-16T22:17:24.553164Z",
     "iopub.status.busy": "2024-01-16T22:17:24.552660Z",
     "iopub.status.idle": "2024-01-16T22:17:24.559712Z",
     "shell.execute_reply": "2024-01-16T22:17:24.558579Z"
    },
    "papermill": {
     "duration": 0.020414,
     "end_time": "2024-01-16T22:17:24.561329",
     "exception": false,
     "start_time": "2024-01-16T22:17:24.540915",
     "status": "completed"
    },
    "tags": []
   },
   "outputs": [
    {
     "name": "stdout",
     "output_type": "stream",
     "text": [
      "     Pclass  Sex        Age     Fare\n",
      "0         3    0  22.000000   7.2500\n",
      "1         1    1  38.000000  71.2833\n",
      "2         3    1  26.000000   7.9250\n",
      "3         1    1  35.000000  53.1000\n",
      "4         3    0  35.000000   8.0500\n",
      "..      ...  ...        ...      ...\n",
      "886       2    0  27.000000  13.0000\n",
      "887       1    1  19.000000  30.0000\n",
      "888       3    1  29.699118  23.4500\n",
      "889       1    0  26.000000  30.0000\n",
      "890       3    0  32.000000   7.7500\n",
      "\n",
      "[891 rows x 4 columns]\n"
     ]
    }
   ],
   "source": [
    "print(X)"
   ]
  },
  {
   "cell_type": "markdown",
   "id": "0d604ab3",
   "metadata": {
    "papermill": {
     "duration": 0.010972,
     "end_time": "2024-01-16T22:17:24.583574",
     "exception": false,
     "start_time": "2024-01-16T22:17:24.572602",
     "status": "completed"
    },
    "tags": []
   },
   "source": [
    "# Random Forest"
   ]
  },
  {
   "cell_type": "code",
   "execution_count": 25,
   "id": "4e74a937",
   "metadata": {
    "execution": {
     "iopub.execute_input": "2024-01-16T22:17:24.607157Z",
     "iopub.status.busy": "2024-01-16T22:17:24.606635Z",
     "iopub.status.idle": "2024-01-16T22:17:24.679738Z",
     "shell.execute_reply": "2024-01-16T22:17:24.679153Z"
    },
    "papermill": {
     "duration": 0.086906,
     "end_time": "2024-01-16T22:17:24.681521",
     "exception": false,
     "start_time": "2024-01-16T22:17:24.594615",
     "status": "completed"
    },
    "tags": []
   },
   "outputs": [],
   "source": [
    "## Libraries for RandomForestClassifier\n",
    "\n",
    "from sklearn.model_selection import train_test_split\n",
    "from sklearn.ensemble import RandomForestClassifier\n",
    "from sklearn.metrics import accuracy_score"
   ]
  },
  {
   "cell_type": "code",
   "execution_count": 26,
   "id": "d3f573e7",
   "metadata": {
    "execution": {
     "iopub.execute_input": "2024-01-16T22:17:24.705639Z",
     "iopub.status.busy": "2024-01-16T22:17:24.705150Z",
     "iopub.status.idle": "2024-01-16T22:17:24.709981Z",
     "shell.execute_reply": "2024-01-16T22:17:24.709449Z"
    },
    "papermill": {
     "duration": 0.018482,
     "end_time": "2024-01-16T22:17:24.711576",
     "exception": false,
     "start_time": "2024-01-16T22:17:24.693094",
     "status": "completed"
    },
    "tags": []
   },
   "outputs": [],
   "source": [
    "# Splitting data on training and testing\n",
    "X_train, X_test, Y_train, Y_test = train_test_split(X,Y, test_size=0.2, random_state=2)"
   ]
  },
  {
   "cell_type": "code",
   "execution_count": 27,
   "id": "481c2535",
   "metadata": {
    "execution": {
     "iopub.execute_input": "2024-01-16T22:17:24.735199Z",
     "iopub.status.busy": "2024-01-16T22:17:24.734669Z",
     "iopub.status.idle": "2024-01-16T22:17:24.739177Z",
     "shell.execute_reply": "2024-01-16T22:17:24.738353Z"
    },
    "papermill": {
     "duration": 0.018024,
     "end_time": "2024-01-16T22:17:24.740732",
     "exception": false,
     "start_time": "2024-01-16T22:17:24.722708",
     "status": "completed"
    },
    "tags": []
   },
   "outputs": [
    {
     "name": "stdout",
     "output_type": "stream",
     "text": [
      "(891, 4) (712, 4) (179, 4)\n"
     ]
    }
   ],
   "source": [
    "print(X.shape, X_train.shape, X_test.shape)"
   ]
  },
  {
   "cell_type": "code",
   "execution_count": 28,
   "id": "68135c59",
   "metadata": {
    "execution": {
     "iopub.execute_input": "2024-01-16T22:17:24.763961Z",
     "iopub.status.busy": "2024-01-16T22:17:24.763714Z",
     "iopub.status.idle": "2024-01-16T22:17:24.766927Z",
     "shell.execute_reply": "2024-01-16T22:17:24.766186Z"
    },
    "papermill": {
     "duration": 0.016593,
     "end_time": "2024-01-16T22:17:24.768528",
     "exception": false,
     "start_time": "2024-01-16T22:17:24.751935",
     "status": "completed"
    },
    "tags": []
   },
   "outputs": [],
   "source": [
    "# Create a Random Forest classifier\n",
    "model = RandomForestClassifier(random_state=42)"
   ]
  },
  {
   "cell_type": "code",
   "execution_count": 29,
   "id": "6c552d8a",
   "metadata": {
    "execution": {
     "iopub.execute_input": "2024-01-16T22:17:24.791955Z",
     "iopub.status.busy": "2024-01-16T22:17:24.791370Z",
     "iopub.status.idle": "2024-01-16T22:17:24.961770Z",
     "shell.execute_reply": "2024-01-16T22:17:24.960925Z"
    },
    "papermill": {
     "duration": 0.183931,
     "end_time": "2024-01-16T22:17:24.963503",
     "exception": false,
     "start_time": "2024-01-16T22:17:24.779572",
     "status": "completed"
    },
    "tags": []
   },
   "outputs": [
    {
     "data": {
      "text/html": [
       "<style>#sk-container-id-1 {color: black;background-color: white;}#sk-container-id-1 pre{padding: 0;}#sk-container-id-1 div.sk-toggleable {background-color: white;}#sk-container-id-1 label.sk-toggleable__label {cursor: pointer;display: block;width: 100%;margin-bottom: 0;padding: 0.3em;box-sizing: border-box;text-align: center;}#sk-container-id-1 label.sk-toggleable__label-arrow:before {content: \"▸\";float: left;margin-right: 0.25em;color: #696969;}#sk-container-id-1 label.sk-toggleable__label-arrow:hover:before {color: black;}#sk-container-id-1 div.sk-estimator:hover label.sk-toggleable__label-arrow:before {color: black;}#sk-container-id-1 div.sk-toggleable__content {max-height: 0;max-width: 0;overflow: hidden;text-align: left;background-color: #f0f8ff;}#sk-container-id-1 div.sk-toggleable__content pre {margin: 0.2em;color: black;border-radius: 0.25em;background-color: #f0f8ff;}#sk-container-id-1 input.sk-toggleable__control:checked~div.sk-toggleable__content {max-height: 200px;max-width: 100%;overflow: auto;}#sk-container-id-1 input.sk-toggleable__control:checked~label.sk-toggleable__label-arrow:before {content: \"▾\";}#sk-container-id-1 div.sk-estimator input.sk-toggleable__control:checked~label.sk-toggleable__label {background-color: #d4ebff;}#sk-container-id-1 div.sk-label input.sk-toggleable__control:checked~label.sk-toggleable__label {background-color: #d4ebff;}#sk-container-id-1 input.sk-hidden--visually {border: 0;clip: rect(1px 1px 1px 1px);clip: rect(1px, 1px, 1px, 1px);height: 1px;margin: -1px;overflow: hidden;padding: 0;position: absolute;width: 1px;}#sk-container-id-1 div.sk-estimator {font-family: monospace;background-color: #f0f8ff;border: 1px dotted black;border-radius: 0.25em;box-sizing: border-box;margin-bottom: 0.5em;}#sk-container-id-1 div.sk-estimator:hover {background-color: #d4ebff;}#sk-container-id-1 div.sk-parallel-item::after {content: \"\";width: 100%;border-bottom: 1px solid gray;flex-grow: 1;}#sk-container-id-1 div.sk-label:hover label.sk-toggleable__label {background-color: #d4ebff;}#sk-container-id-1 div.sk-serial::before {content: \"\";position: absolute;border-left: 1px solid gray;box-sizing: border-box;top: 0;bottom: 0;left: 50%;z-index: 0;}#sk-container-id-1 div.sk-serial {display: flex;flex-direction: column;align-items: center;background-color: white;padding-right: 0.2em;padding-left: 0.2em;position: relative;}#sk-container-id-1 div.sk-item {position: relative;z-index: 1;}#sk-container-id-1 div.sk-parallel {display: flex;align-items: stretch;justify-content: center;background-color: white;position: relative;}#sk-container-id-1 div.sk-item::before, #sk-container-id-1 div.sk-parallel-item::before {content: \"\";position: absolute;border-left: 1px solid gray;box-sizing: border-box;top: 0;bottom: 0;left: 50%;z-index: -1;}#sk-container-id-1 div.sk-parallel-item {display: flex;flex-direction: column;z-index: 1;position: relative;background-color: white;}#sk-container-id-1 div.sk-parallel-item:first-child::after {align-self: flex-end;width: 50%;}#sk-container-id-1 div.sk-parallel-item:last-child::after {align-self: flex-start;width: 50%;}#sk-container-id-1 div.sk-parallel-item:only-child::after {width: 0;}#sk-container-id-1 div.sk-dashed-wrapped {border: 1px dashed gray;margin: 0 0.4em 0.5em 0.4em;box-sizing: border-box;padding-bottom: 0.4em;background-color: white;}#sk-container-id-1 div.sk-label label {font-family: monospace;font-weight: bold;display: inline-block;line-height: 1.2em;}#sk-container-id-1 div.sk-label-container {text-align: center;}#sk-container-id-1 div.sk-container {/* jupyter's `normalize.less` sets `[hidden] { display: none; }` but bootstrap.min.css set `[hidden] { display: none !important; }` so we also need the `!important` here to be able to override the default hidden behavior on the sphinx rendered scikit-learn.org. See: https://github.com/scikit-learn/scikit-learn/issues/21755 */display: inline-block !important;position: relative;}#sk-container-id-1 div.sk-text-repr-fallback {display: none;}</style><div id=\"sk-container-id-1\" class=\"sk-top-container\"><div class=\"sk-text-repr-fallback\"><pre>RandomForestClassifier(random_state=42)</pre><b>In a Jupyter environment, please rerun this cell to show the HTML representation or trust the notebook. <br />On GitHub, the HTML representation is unable to render, please try loading this page with nbviewer.org.</b></div><div class=\"sk-container\" hidden><div class=\"sk-item\"><div class=\"sk-estimator sk-toggleable\"><input class=\"sk-toggleable__control sk-hidden--visually\" id=\"sk-estimator-id-1\" type=\"checkbox\" checked><label for=\"sk-estimator-id-1\" class=\"sk-toggleable__label sk-toggleable__label-arrow\">RandomForestClassifier</label><div class=\"sk-toggleable__content\"><pre>RandomForestClassifier(random_state=42)</pre></div></div></div></div></div>"
      ],
      "text/plain": [
       "RandomForestClassifier(random_state=42)"
      ]
     },
     "execution_count": 29,
     "metadata": {},
     "output_type": "execute_result"
    }
   ],
   "source": [
    "# Train the model\n",
    "model.fit(X_train, Y_train)"
   ]
  },
  {
   "cell_type": "code",
   "execution_count": 30,
   "id": "365a529a",
   "metadata": {
    "execution": {
     "iopub.execute_input": "2024-01-16T22:17:24.988990Z",
     "iopub.status.busy": "2024-01-16T22:17:24.988250Z",
     "iopub.status.idle": "2024-01-16T22:17:25.001232Z",
     "shell.execute_reply": "2024-01-16T22:17:25.000427Z"
    },
    "papermill": {
     "duration": 0.027111,
     "end_time": "2024-01-16T22:17:25.002952",
     "exception": false,
     "start_time": "2024-01-16T22:17:24.975841",
     "status": "completed"
    },
    "tags": []
   },
   "outputs": [],
   "source": [
    "# Make predictions on the test set\n",
    "predictions = model.predict(X_test)"
   ]
  },
  {
   "cell_type": "markdown",
   "id": "5cc10c44",
   "metadata": {
    "papermill": {
     "duration": 0.011237,
     "end_time": "2024-01-16T22:17:25.025619",
     "exception": false,
     "start_time": "2024-01-16T22:17:25.014382",
     "status": "completed"
    },
    "tags": []
   },
   "source": [
    "# Accuracy"
   ]
  },
  {
   "cell_type": "code",
   "execution_count": 31,
   "id": "18d3a083",
   "metadata": {
    "execution": {
     "iopub.execute_input": "2024-01-16T22:17:25.049951Z",
     "iopub.status.busy": "2024-01-16T22:17:25.049278Z",
     "iopub.status.idle": "2024-01-16T22:17:25.054667Z",
     "shell.execute_reply": "2024-01-16T22:17:25.053892Z"
    },
    "papermill": {
     "duration": 0.019103,
     "end_time": "2024-01-16T22:17:25.056232",
     "exception": false,
     "start_time": "2024-01-16T22:17:25.037129",
     "status": "completed"
    },
    "tags": []
   },
   "outputs": [
    {
     "name": "stdout",
     "output_type": "stream",
     "text": [
      "Accuracy: 0.8100558659217877\n"
     ]
    }
   ],
   "source": [
    "# Evaluate the model\n",
    "accuracy = accuracy_score(Y_test, predictions)\n",
    "print(f\"Accuracy: {accuracy}\")"
   ]
  },
  {
   "cell_type": "markdown",
   "id": "98d69aca",
   "metadata": {
    "papermill": {
     "duration": 0.011129,
     "end_time": "2024-01-16T22:17:25.078732",
     "exception": false,
     "start_time": "2024-01-16T22:17:25.067603",
     "status": "completed"
    },
    "tags": []
   },
   "source": [
    "# Testing on Test Data"
   ]
  },
  {
   "cell_type": "code",
   "execution_count": 32,
   "id": "95989766",
   "metadata": {
    "execution": {
     "iopub.execute_input": "2024-01-16T22:17:25.102850Z",
     "iopub.status.busy": "2024-01-16T22:17:25.102596Z",
     "iopub.status.idle": "2024-01-16T22:17:25.112437Z",
     "shell.execute_reply": "2024-01-16T22:17:25.111749Z"
    },
    "papermill": {
     "duration": 0.023869,
     "end_time": "2024-01-16T22:17:25.114126",
     "exception": false,
     "start_time": "2024-01-16T22:17:25.090257",
     "status": "completed"
    },
    "tags": []
   },
   "outputs": [],
   "source": [
    "test_data = pd.read_csv('/kaggle/input/titanic/test.csv')"
   ]
  },
  {
   "cell_type": "code",
   "execution_count": 33,
   "id": "50186f6f",
   "metadata": {
    "execution": {
     "iopub.execute_input": "2024-01-16T22:17:25.138337Z",
     "iopub.status.busy": "2024-01-16T22:17:25.138093Z",
     "iopub.status.idle": "2024-01-16T22:17:25.144174Z",
     "shell.execute_reply": "2024-01-16T22:17:25.143384Z"
    },
    "papermill": {
     "duration": 0.020003,
     "end_time": "2024-01-16T22:17:25.145735",
     "exception": false,
     "start_time": "2024-01-16T22:17:25.125732",
     "status": "completed"
    },
    "tags": []
   },
   "outputs": [
    {
     "data": {
      "text/plain": [
       "PassengerId      0\n",
       "Pclass           0\n",
       "Name             0\n",
       "Sex              0\n",
       "Age             86\n",
       "SibSp            0\n",
       "Parch            0\n",
       "Ticket           0\n",
       "Fare             1\n",
       "Cabin          327\n",
       "Embarked         0\n",
       "dtype: int64"
      ]
     },
     "execution_count": 33,
     "metadata": {},
     "output_type": "execute_result"
    }
   ],
   "source": [
    "test_data.isnull().sum()"
   ]
  },
  {
   "cell_type": "code",
   "execution_count": 34,
   "id": "3c9809bb",
   "metadata": {
    "execution": {
     "iopub.execute_input": "2024-01-16T22:17:25.169955Z",
     "iopub.status.busy": "2024-01-16T22:17:25.169557Z",
     "iopub.status.idle": "2024-01-16T22:17:25.173821Z",
     "shell.execute_reply": "2024-01-16T22:17:25.173318Z"
    },
    "papermill": {
     "duration": 0.018093,
     "end_time": "2024-01-16T22:17:25.175306",
     "exception": false,
     "start_time": "2024-01-16T22:17:25.157213",
     "status": "completed"
    },
    "tags": []
   },
   "outputs": [],
   "source": [
    "test_data.fillna(df['Age'].mean(), inplace=True)\n",
    "test_data.fillna(df['Fare'].mean(), inplace=True)"
   ]
  },
  {
   "cell_type": "code",
   "execution_count": 35,
   "id": "53fa114a",
   "metadata": {
    "execution": {
     "iopub.execute_input": "2024-01-16T22:17:25.199750Z",
     "iopub.status.busy": "2024-01-16T22:17:25.199159Z",
     "iopub.status.idle": "2024-01-16T22:17:25.203860Z",
     "shell.execute_reply": "2024-01-16T22:17:25.203360Z"
    },
    "papermill": {
     "duration": 0.018409,
     "end_time": "2024-01-16T22:17:25.205308",
     "exception": false,
     "start_time": "2024-01-16T22:17:25.186899",
     "status": "completed"
    },
    "tags": []
   },
   "outputs": [],
   "source": [
    "# converting categorical Columns\n",
    "\n",
    "test_data.replace({'Sex':{'male':0,'female':1}, 'Embarked':{'S':0,'C':1,'Q':2}}, inplace=True)"
   ]
  },
  {
   "cell_type": "code",
   "execution_count": 36,
   "id": "e87d356b",
   "metadata": {
    "execution": {
     "iopub.execute_input": "2024-01-16T22:17:25.229436Z",
     "iopub.status.busy": "2024-01-16T22:17:25.229203Z",
     "iopub.status.idle": "2024-01-16T22:17:25.239975Z",
     "shell.execute_reply": "2024-01-16T22:17:25.239244Z"
    },
    "papermill": {
     "duration": 0.024862,
     "end_time": "2024-01-16T22:17:25.241599",
     "exception": false,
     "start_time": "2024-01-16T22:17:25.216737",
     "status": "completed"
    },
    "tags": []
   },
   "outputs": [
    {
     "data": {
      "text/html": [
       "<div>\n",
       "<style scoped>\n",
       "    .dataframe tbody tr th:only-of-type {\n",
       "        vertical-align: middle;\n",
       "    }\n",
       "\n",
       "    .dataframe tbody tr th {\n",
       "        vertical-align: top;\n",
       "    }\n",
       "\n",
       "    .dataframe thead th {\n",
       "        text-align: right;\n",
       "    }\n",
       "</style>\n",
       "<table border=\"1\" class=\"dataframe\">\n",
       "  <thead>\n",
       "    <tr style=\"text-align: right;\">\n",
       "      <th></th>\n",
       "      <th>PassengerId</th>\n",
       "      <th>Pclass</th>\n",
       "      <th>Name</th>\n",
       "      <th>Sex</th>\n",
       "      <th>Age</th>\n",
       "      <th>SibSp</th>\n",
       "      <th>Parch</th>\n",
       "      <th>Ticket</th>\n",
       "      <th>Fare</th>\n",
       "      <th>Cabin</th>\n",
       "      <th>Embarked</th>\n",
       "    </tr>\n",
       "  </thead>\n",
       "  <tbody>\n",
       "    <tr>\n",
       "      <th>0</th>\n",
       "      <td>892</td>\n",
       "      <td>3</td>\n",
       "      <td>Kelly, Mr. James</td>\n",
       "      <td>0</td>\n",
       "      <td>34.5</td>\n",
       "      <td>0</td>\n",
       "      <td>0</td>\n",
       "      <td>330911</td>\n",
       "      <td>7.8292</td>\n",
       "      <td>29.699118</td>\n",
       "      <td>2</td>\n",
       "    </tr>\n",
       "    <tr>\n",
       "      <th>1</th>\n",
       "      <td>893</td>\n",
       "      <td>3</td>\n",
       "      <td>Wilkes, Mrs. James (Ellen Needs)</td>\n",
       "      <td>1</td>\n",
       "      <td>47.0</td>\n",
       "      <td>1</td>\n",
       "      <td>0</td>\n",
       "      <td>363272</td>\n",
       "      <td>7.0000</td>\n",
       "      <td>29.699118</td>\n",
       "      <td>0</td>\n",
       "    </tr>\n",
       "    <tr>\n",
       "      <th>2</th>\n",
       "      <td>894</td>\n",
       "      <td>2</td>\n",
       "      <td>Myles, Mr. Thomas Francis</td>\n",
       "      <td>0</td>\n",
       "      <td>62.0</td>\n",
       "      <td>0</td>\n",
       "      <td>0</td>\n",
       "      <td>240276</td>\n",
       "      <td>9.6875</td>\n",
       "      <td>29.699118</td>\n",
       "      <td>2</td>\n",
       "    </tr>\n",
       "    <tr>\n",
       "      <th>3</th>\n",
       "      <td>895</td>\n",
       "      <td>3</td>\n",
       "      <td>Wirz, Mr. Albert</td>\n",
       "      <td>0</td>\n",
       "      <td>27.0</td>\n",
       "      <td>0</td>\n",
       "      <td>0</td>\n",
       "      <td>315154</td>\n",
       "      <td>8.6625</td>\n",
       "      <td>29.699118</td>\n",
       "      <td>0</td>\n",
       "    </tr>\n",
       "    <tr>\n",
       "      <th>4</th>\n",
       "      <td>896</td>\n",
       "      <td>3</td>\n",
       "      <td>Hirvonen, Mrs. Alexander (Helga E Lindqvist)</td>\n",
       "      <td>1</td>\n",
       "      <td>22.0</td>\n",
       "      <td>1</td>\n",
       "      <td>1</td>\n",
       "      <td>3101298</td>\n",
       "      <td>12.2875</td>\n",
       "      <td>29.699118</td>\n",
       "      <td>0</td>\n",
       "    </tr>\n",
       "  </tbody>\n",
       "</table>\n",
       "</div>"
      ],
      "text/plain": [
       "   PassengerId  Pclass                                          Name  Sex  \\\n",
       "0          892       3                              Kelly, Mr. James    0   \n",
       "1          893       3              Wilkes, Mrs. James (Ellen Needs)    1   \n",
       "2          894       2                     Myles, Mr. Thomas Francis    0   \n",
       "3          895       3                              Wirz, Mr. Albert    0   \n",
       "4          896       3  Hirvonen, Mrs. Alexander (Helga E Lindqvist)    1   \n",
       "\n",
       "    Age  SibSp  Parch   Ticket     Fare      Cabin  Embarked  \n",
       "0  34.5      0      0   330911   7.8292  29.699118         2  \n",
       "1  47.0      1      0   363272   7.0000  29.699118         0  \n",
       "2  62.0      0      0   240276   9.6875  29.699118         2  \n",
       "3  27.0      0      0   315154   8.6625  29.699118         0  \n",
       "4  22.0      1      1  3101298  12.2875  29.699118         0  "
      ]
     },
     "execution_count": 36,
     "metadata": {},
     "output_type": "execute_result"
    }
   ],
   "source": [
    "test_data.head()"
   ]
  },
  {
   "cell_type": "code",
   "execution_count": 37,
   "id": "900bc7e3",
   "metadata": {
    "execution": {
     "iopub.execute_input": "2024-01-16T22:17:25.266121Z",
     "iopub.status.busy": "2024-01-16T22:17:25.265803Z",
     "iopub.status.idle": "2024-01-16T22:17:25.272219Z",
     "shell.execute_reply": "2024-01-16T22:17:25.271514Z"
    },
    "papermill": {
     "duration": 0.020315,
     "end_time": "2024-01-16T22:17:25.273690",
     "exception": false,
     "start_time": "2024-01-16T22:17:25.253375",
     "status": "completed"
    },
    "tags": []
   },
   "outputs": [
    {
     "data": {
      "text/plain": [
       "PassengerId    0\n",
       "Pclass         0\n",
       "Name           0\n",
       "Sex            0\n",
       "Age            0\n",
       "SibSp          0\n",
       "Parch          0\n",
       "Ticket         0\n",
       "Fare           0\n",
       "Cabin          0\n",
       "Embarked       0\n",
       "dtype: int64"
      ]
     },
     "execution_count": 37,
     "metadata": {},
     "output_type": "execute_result"
    }
   ],
   "source": [
    "test_data.isnull().sum()"
   ]
  },
  {
   "cell_type": "code",
   "execution_count": 38,
   "id": "b0967078",
   "metadata": {
    "execution": {
     "iopub.execute_input": "2024-01-16T22:17:25.298210Z",
     "iopub.status.busy": "2024-01-16T22:17:25.297876Z",
     "iopub.status.idle": "2024-01-16T22:17:25.302145Z",
     "shell.execute_reply": "2024-01-16T22:17:25.301410Z"
    },
    "papermill": {
     "duration": 0.018167,
     "end_time": "2024-01-16T22:17:25.303620",
     "exception": false,
     "start_time": "2024-01-16T22:17:25.285453",
     "status": "completed"
    },
    "tags": []
   },
   "outputs": [],
   "source": [
    "test=test_data.drop(columns = ['PassengerId', 'Name','Ticket','Cabin', 'Parch', 'SibSp' ,'Embarked'],axis=1)"
   ]
  },
  {
   "cell_type": "code",
   "execution_count": 39,
   "id": "d5a84baf",
   "metadata": {
    "execution": {
     "iopub.execute_input": "2024-01-16T22:17:25.327999Z",
     "iopub.status.busy": "2024-01-16T22:17:25.327783Z",
     "iopub.status.idle": "2024-01-16T22:17:25.335961Z",
     "shell.execute_reply": "2024-01-16T22:17:25.335203Z"
    },
    "papermill": {
     "duration": 0.022198,
     "end_time": "2024-01-16T22:17:25.337530",
     "exception": false,
     "start_time": "2024-01-16T22:17:25.315332",
     "status": "completed"
    },
    "tags": []
   },
   "outputs": [
    {
     "data": {
      "text/html": [
       "<div>\n",
       "<style scoped>\n",
       "    .dataframe tbody tr th:only-of-type {\n",
       "        vertical-align: middle;\n",
       "    }\n",
       "\n",
       "    .dataframe tbody tr th {\n",
       "        vertical-align: top;\n",
       "    }\n",
       "\n",
       "    .dataframe thead th {\n",
       "        text-align: right;\n",
       "    }\n",
       "</style>\n",
       "<table border=\"1\" class=\"dataframe\">\n",
       "  <thead>\n",
       "    <tr style=\"text-align: right;\">\n",
       "      <th></th>\n",
       "      <th>Pclass</th>\n",
       "      <th>Sex</th>\n",
       "      <th>Age</th>\n",
       "      <th>Fare</th>\n",
       "    </tr>\n",
       "  </thead>\n",
       "  <tbody>\n",
       "    <tr>\n",
       "      <th>0</th>\n",
       "      <td>3</td>\n",
       "      <td>0</td>\n",
       "      <td>34.5</td>\n",
       "      <td>7.8292</td>\n",
       "    </tr>\n",
       "    <tr>\n",
       "      <th>1</th>\n",
       "      <td>3</td>\n",
       "      <td>1</td>\n",
       "      <td>47.0</td>\n",
       "      <td>7.0000</td>\n",
       "    </tr>\n",
       "    <tr>\n",
       "      <th>2</th>\n",
       "      <td>2</td>\n",
       "      <td>0</td>\n",
       "      <td>62.0</td>\n",
       "      <td>9.6875</td>\n",
       "    </tr>\n",
       "    <tr>\n",
       "      <th>3</th>\n",
       "      <td>3</td>\n",
       "      <td>0</td>\n",
       "      <td>27.0</td>\n",
       "      <td>8.6625</td>\n",
       "    </tr>\n",
       "    <tr>\n",
       "      <th>4</th>\n",
       "      <td>3</td>\n",
       "      <td>1</td>\n",
       "      <td>22.0</td>\n",
       "      <td>12.2875</td>\n",
       "    </tr>\n",
       "  </tbody>\n",
       "</table>\n",
       "</div>"
      ],
      "text/plain": [
       "   Pclass  Sex   Age     Fare\n",
       "0       3    0  34.5   7.8292\n",
       "1       3    1  47.0   7.0000\n",
       "2       2    0  62.0   9.6875\n",
       "3       3    0  27.0   8.6625\n",
       "4       3    1  22.0  12.2875"
      ]
     },
     "execution_count": 39,
     "metadata": {},
     "output_type": "execute_result"
    }
   ],
   "source": [
    "test.head()"
   ]
  },
  {
   "cell_type": "code",
   "execution_count": 40,
   "id": "c9dcfce8",
   "metadata": {
    "execution": {
     "iopub.execute_input": "2024-01-16T22:17:25.362526Z",
     "iopub.status.busy": "2024-01-16T22:17:25.361915Z",
     "iopub.status.idle": "2024-01-16T22:17:25.479576Z",
     "shell.execute_reply": "2024-01-16T22:17:25.478896Z"
    },
    "papermill": {
     "duration": 0.132052,
     "end_time": "2024-01-16T22:17:25.481473",
     "exception": false,
     "start_time": "2024-01-16T22:17:25.349421",
     "status": "completed"
    },
    "tags": []
   },
   "outputs": [
    {
     "data": {
      "image/png": "[encoded data removed]",
      "text/plain": [
       "<Figure size 640x480 with 1 Axes>"
      ]
     },
     "metadata": {},
     "output_type": "display_data"
    }
   ],
   "source": [
    "sns.countplot(x='Sex', data=test)\n",
    "plt.show()"
   ]
  },
  {
   "cell_type": "code",
   "execution_count": 41,
   "id": "e2d18a2b",
   "metadata": {
    "execution": {
     "iopub.execute_input": "2024-01-16T22:17:25.516377Z",
     "iopub.status.busy": "2024-01-16T22:17:25.514785Z",
     "iopub.status.idle": "2024-01-16T22:17:25.530051Z",
     "shell.execute_reply": "2024-01-16T22:17:25.529464Z"
    },
    "papermill": {
     "duration": 0.033184,
     "end_time": "2024-01-16T22:17:25.531702",
     "exception": false,
     "start_time": "2024-01-16T22:17:25.498518",
     "status": "completed"
    },
    "tags": []
   },
   "outputs": [],
   "source": [
    "# Make predictions on the test data\n",
    "test_predictions = model.predict(test)"
   ]
  },
  {
   "cell_type": "code",
   "execution_count": 42,
   "id": "07a56516",
   "metadata": {
    "execution": {
     "iopub.execute_input": "2024-01-16T22:17:25.558354Z",
     "iopub.status.busy": "2024-01-16T22:17:25.557566Z",
     "iopub.status.idle": "2024-01-16T22:17:25.562119Z",
     "shell.execute_reply": "2024-01-16T22:17:25.561513Z"
    },
    "papermill": {
     "duration": 0.019601,
     "end_time": "2024-01-16T22:17:25.563849",
     "exception": false,
     "start_time": "2024-01-16T22:17:25.544248",
     "status": "completed"
    },
    "tags": []
   },
   "outputs": [],
   "source": [
    "# Assuming 'PassengerId' is a column in the test data\n",
    "# Create a DataFrame with 'PassengerId' and corresponding predictions\n",
    "submission_df = pd.DataFrame({'PassengerId': test_data['PassengerId'], 'Survived': test_predictions})"
   ]
  },
  {
   "cell_type": "markdown",
   "id": "40af13ae",
   "metadata": {
    "papermill": {
     "duration": 0.012058,
     "end_time": "2024-01-16T22:17:25.588550",
     "exception": false,
     "start_time": "2024-01-16T22:17:25.576492",
     "status": "completed"
    },
    "tags": []
   },
   "source": [
    "# Final Output CSV"
   ]
  },
  {
   "cell_type": "code",
   "execution_count": 43,
   "id": "07ff8976",
   "metadata": {
    "execution": {
     "iopub.execute_input": "2024-01-16T22:17:25.616604Z",
     "iopub.status.busy": "2024-01-16T22:17:25.615709Z",
     "iopub.status.idle": "2024-01-16T22:17:25.622811Z",
     "shell.execute_reply": "2024-01-16T22:17:25.621865Z"
    },
    "papermill": {
     "duration": 0.02315,
     "end_time": "2024-01-16T22:17:25.624786",
     "exception": false,
     "start_time": "2024-01-16T22:17:25.601636",
     "status": "completed"
    },
    "tags": []
   },
   "outputs": [],
   "source": [
    "# Save the predictions to a CSV file\n",
    "submission_df.to_csv('submission.csv', index=False)"
   ]
  },
  {
   "cell_type": "code",
   "execution_count": 44,
   "id": "c69e4a03",
   "metadata": {
    "execution": {
     "iopub.execute_input": "2024-01-16T22:17:25.650851Z",
     "iopub.status.busy": "2024-01-16T22:17:25.650599Z",
     "iopub.status.idle": "2024-01-16T22:17:25.655428Z",
     "shell.execute_reply": "2024-01-16T22:17:25.654664Z"
    },
    "papermill": {
     "duration": 0.019324,
     "end_time": "2024-01-16T22:17:25.656996",
     "exception": false,
     "start_time": "2024-01-16T22:17:25.637672",
     "status": "completed"
    },
    "tags": []
   },
   "outputs": [],
   "source": [
    "my_df = pd.read_csv('/kaggle/working/submission.csv')"
   ]
  },
  {
   "cell_type": "code",
   "execution_count": 45,
   "id": "619bea34",
   "metadata": {
    "execution": {
     "iopub.execute_input": "2024-01-16T22:17:25.682252Z",
     "iopub.status.busy": "2024-01-16T22:17:25.681926Z",
     "iopub.status.idle": "2024-01-16T22:17:25.690368Z",
     "shell.execute_reply": "2024-01-16T22:17:25.689577Z"
    },
    "papermill": {
     "duration": 0.022749,
     "end_time": "2024-01-16T22:17:25.691906",
     "exception": false,
     "start_time": "2024-01-16T22:17:25.669157",
     "status": "completed"
    },
    "tags": []
   },
   "outputs": [
    {
     "data": {
      "text/plain": [
       "'     PassengerId  Survived\\n0            892         0\\n1            893         0\\n2            894         1\\n3            895         1\\n4            896         0\\n5            897         0\\n6            898         0\\n7            899         0\\n8            900         1\\n9            901         0\\n10           902         0\\n11           903         0\\n12           904         1\\n13           905         0\\n14           906         1\\n15           907         1\\n16           908         0\\n17           909         0\\n18           910         1\\n19           911         0\\n20           912         0\\n21           913         0\\n22           914         1\\n23           915         0\\n24           916         1\\n25           917         0\\n26           918         1\\n27           919         0\\n28           920         0\\n29           921         0\\n30           922         0\\n31           923         0\\n32           924         1\\n33           925         0\\n34           926         1\\n35           927         0\\n36           928         0\\n37           929         0\\n38           930         0\\n39           931         0\\n40           932         0\\n41           933         1\\n42           934         0\\n43           935         1\\n44           936         1\\n45           937         0\\n46           938         0\\n47           939         0\\n48           940         1\\n49           941         1\\n50           942         1\\n51           943         0\\n52           944         1\\n53           945         1\\n54           946         0\\n55           947         0\\n56           948         0\\n57           949         0\\n58           950         0\\n59           951         1\\n60           952         0\\n61           953         1\\n62           954         0\\n63           955         1\\n64           956         1\\n65           957         1\\n66           958         1\\n67           959         0\\n68           960         0\\n69           961         1\\n70           962         1\\n71           963         0\\n72           964         1\\n73           965         0\\n74           966         1\\n75           967         0\\n76           968         0\\n77           969         1\\n78           970         0\\n79           971         1\\n80           972         1\\n81           973         0\\n82           974         0\\n83           975         0\\n84           976         0\\n85           977         0\\n86           978         1\\n87           979         0\\n88           980         1\\n89           981         1\\n90           982         0\\n91           983         0\\n92           984         1\\n93           985         0\\n94           986         0\\n95           987         0\\n96           988         1\\n97           989         0\\n98           990         0\\n99           991         0\\n100          992         1\\n101          993         0\\n102          994         0\\n103          995         0\\n104          996         0\\n105          997         1\\n106          998         0\\n107          999         0\\n108         1000         0\\n109         1001         0\\n110         1002         0\\n111         1003         1\\n112         1004         1\\n113         1005         1\\n114         1006         1\\n115         1007         0\\n116         1008         0\\n117         1009         1\\n118         1010         1\\n119         1011         1\\n120         1012         1\\n121         1013         0\\n122         1014         1\\n123         1015         0\\n124         1016         0\\n125         1017         0\\n126         1018         0\\n127         1019         1\\n128         1020         0\\n129         1021         0\\n130         1022         1\\n131         1023         0\\n132         1024         0\\n133         1025         0\\n134         1026         0\\n135         1027         0\\n136         1028         0\\n137         1029         0\\n138         1030         0\\n139         1031         0\\n140         1032         0\\n141         1033         1\\n142         1034         0\\n143         1035         0\\n144         1036         0\\n145         1037         0\\n146         1038         0\\n147         1039         0\\n148         1040         1\\n149         1041         0\\n150         1042         1\\n151         1043         0\\n152         1044         0\\n153         1045         1\\n154         1046         0\\n155         1047         0\\n156         1048         1\\n157         1049         1\\n158         1050         0\\n159         1051         1\\n160         1052         1\\n161         1053         1\\n162         1054         1\\n163         1055         0\\n164         1056         0\\n165         1057         1\\n166         1058         0\\n167         1059         0\\n168         1060         1\\n169         1061         0\\n170         1062         0\\n171         1063         0\\n172         1064         0\\n173         1065         0\\n174         1066         0\\n175         1067         1\\n176         1068         1\\n177         1069         0\\n178         1070         1\\n179         1071         1\\n180         1072         0\\n181         1073         0\\n182         1074         1\\n183         1075         0\\n184         1076         1\\n185         1077         0\\n186         1078         1\\n187         1079         0\\n188         1080         0\\n189         1081         0\\n190         1082         0\\n191         1083         0\\n192         1084         1\\n193         1085         0\\n194         1086         0\\n195         1087         0\\n196         1088         1\\n197         1089         0\\n198         1090         0\\n199         1091         0\\n200         1092         1\\n201         1093         1\\n202         1094         0\\n203         1095         1\\n204         1096         0\\n205         1097         0\\n206         1098         0\\n207         1099         0\\n208         1100         1\\n209         1101         0\\n210         1102         0\\n211         1103         0\\n212         1104         0\\n213         1105         1\\n214         1106         0\\n215         1107         0\\n216         1108         1\\n217         1109         0\\n218         1110         1\\n219         1111         0\\n220         1112         1\\n221         1113         0\\n222         1114         1\\n223         1115         1\\n224         1116         1\\n225         1117         0\\n226         1118         0\\n227         1119         1\\n228         1120         0\\n229         1121         0\\n230         1122         0\\n231         1123         1\\n232         1124         0\\n233         1125         0\\n234         1126         0\\n235         1127         0\\n236         1128         0\\n237         1129         1\\n238         1130         1\\n239         1131         1\\n240         1132         1\\n241         1133         1\\n242         1134         0\\n243         1135         0\\n244         1136         0\\n245         1137         0\\n246         1138         1\\n247         1139         0\\n248         1140         1\\n249         1141         0\\n250         1142         1\\n251         1143         1\\n252         1144         0\\n253         1145         0\\n254         1146         1\\n255         1147         0\\n256         1148         0\\n257         1149         0\\n258         1150         1\\n259         1151         0\\n260         1152         0\\n261         1153         0\\n262         1154         1\\n263         1155         1\\n264         1156         0\\n265         1157         0\\n266         1158         0\\n267         1159         0\\n268         1160         0\\n269         1161         0\\n270         1162         0\\n271         1163         0\\n272         1164         1\\n273         1165         1\\n274         1166         0\\n275         1167         1\\n276         1168         0\\n277         1169         0\\n278         1170         0\\n279         1171         0\\n280         1172         0\\n281         1173         1\\n282         1174         1\\n283         1175         0\\n284         1176         1\\n285         1177         0\\n286         1178         0\\n287         1179         0\\n288         1180         0\\n289         1181         0\\n290         1182         0\\n291         1183         1\\n292         1184         0\\n293         1185         0\\n294         1186         0\\n295         1187         0\\n296         1188         1\\n297         1189         0\\n298         1190         0\\n299         1191         0\\n300         1192         0\\n301         1193         0\\n302         1194         0\\n303         1195         0\\n304         1196         1\\n305         1197         1\\n306         1198         0\\n307         1199         1\\n308         1200         0\\n309         1201         0\\n310         1202         0\\n311         1203         0\\n312         1204         0\\n313         1205         0\\n314         1206         1\\n315         1207         1\\n316         1208         0\\n317         1209         0\\n318         1210         0\\n319         1211         0\\n320         1212         0\\n321         1213         0\\n322         1214         0\\n323         1215         1\\n324         1216         1\\n325         1217         0\\n326         1218         1\\n327         1219         0\\n328         1220         0\\n329         1221         0\\n330         1222         1\\n331         1223         0\\n332         1224         0\\n333         1225         0\\n334         1226         0\\n335         1227         0\\n336         1228         1\\n337         1229         0\\n338         1230         0\\n339         1231         0\\n340         1232         0\\n341         1233         0\\n342         1234         0\\n343         1235         1\\n344         1236         0\\n345         1237         1\\n346         1238         0\\n347         1239         0\\n348         1240         0\\n349         1241         1\\n350         1242         1\\n351         1243         0\\n352         1244         0\\n353         1245         0\\n354         1246         1\\n355         1247         0\\n356         1248         1\\n357         1249         0\\n358         1250         0\\n359         1251         1\\n360         1252         0\\n361         1253         1\\n362         1254         1\\n363         1255         1\\n364         1256         1\\n365         1257         0\\n366         1258         0\\n367         1259         0\\n368         1260         1\\n369         1261         0\\n370         1262         0\\n371         1263         1\\n372         1264         0\\n373         1265         0\\n374         1266         1\\n375         1267         1\\n376         1268         0\\n377         1269         0\\n378         1270         0\\n379         1271         0\\n380         1272         0\\n381         1273         0\\n382         1274         0\\n383         1275         0\\n384         1276         0\\n385         1277         1\\n386         1278         0\\n387         1279         0\\n388         1280         0\\n389         1281         1\\n390         1282         1\\n391         1283         1\\n392         1284         0\\n393         1285         0\\n394         1286         0\\n395         1287         1\\n396         1288         0\\n397         1289         1\\n398         1290         0\\n399         1291         0\\n400         1292         1\\n401         1293         0\\n402         1294         1\\n403         1295         0\\n404         1296         0\\n405         1297         0\\n406         1298         0\\n407         1299         0\\n408         1300         1\\n409         1301         1\\n410         1302         1\\n411         1303         1\\n412         1304         1\\n413         1305         0\\n414         1306         1\\n415         1307         0\\n416         1308         0\\n417         1309         0'"
      ]
     },
     "metadata": {},
     "output_type": "display_data"
    }
   ],
   "source": [
    "display(my_df.to_string())"
   ]
  },
  {
   "cell_type": "code",
   "execution_count": 46,
   "id": "9aaa18c0",
   "metadata": {
    "execution": {
     "iopub.execute_input": "2024-01-16T22:17:25.717602Z",
     "iopub.status.busy": "2024-01-16T22:17:25.717369Z",
     "iopub.status.idle": "2024-01-16T22:17:25.834097Z",
     "shell.execute_reply": "2024-01-16T22:17:25.833236Z"
    },
    "papermill": {
     "duration": 0.131603,
     "end_time": "2024-01-16T22:17:25.835898",
     "exception": false,
     "start_time": "2024-01-16T22:17:25.704295",
     "status": "completed"
    },
    "tags": []
   },
   "outputs": [
    {
     "data": {
      "image/png": "[encoded data removed]",
      "text/plain": [
       "<Figure size 640x480 with 1 Axes>"
      ]
     },
     "metadata": {},
     "output_type": "display_data"
    }
   ],
   "source": [
    "sns.countplot(x='Survived', data=my_df)\n",
    "plt.show()"
   ]
  }
 ],
 "metadata": {
  "kaggle": {
   "accelerator": "none",
   "dataSources": [
    {
     "databundleVersionId": 26502,
     "sourceId": 3136,
     "sourceType": "competition"
    }
   ],
   "dockerImageVersionId": 30635,
   "isGpuEnabled": false,
   "isInternetEnabled": false,
   "language": "python",
   "sourceType": "notebook"
  },
  "kernelspec": {
   "display_name": "Python 3",
   "language": "python",
   "name": "python3"
  },
  "language_info": {
   "codemirror_mode": {
    "name": "ipython",
    "version": 3
   },
   "file_extension": ".py",
   "mimetype": "text/x-python",
   "name": "python",
   "nbconvert_exporter": "python",
   "pygments_lexer": "ipython3",
   "version": "3.10.12"
  },
  "papermill": {
   "default_parameters": {},
   "duration": 6.752326,
   "end_time": "2024-01-16T22:17:26.269813",
   "environment_variables": {},
   "exception": null,
   "input_path": "__notebook__.ipynb",
   "output_path": "__notebook__.ipynb",
   "parameters": {},
   "start_time": "2024-01-16T22:17:19.517487",
   "version": "2.4.0"
  }
 },
 "nbformat": 4,
 "nbformat_minor": 5
}
